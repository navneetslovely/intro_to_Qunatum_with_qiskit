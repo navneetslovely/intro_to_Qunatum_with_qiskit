{
 "cells": [
  {
   "cell_type": "code",
   "execution_count": 1,
   "metadata": {},
   "outputs": [
    {
     "name": "stdout",
     "output_type": "stream",
     "text": [
      "Requirement already satisfied: qiskit-machine-learning in c:\\users\\navne\\anaconda3\\envs\\qml\\lib\\site-packages (0.7.1)\n",
      "Requirement already satisfied: qiskit>=0.44 in c:\\users\\navne\\anaconda3\\envs\\qml\\lib\\site-packages (from qiskit-machine-learning) (0.45.1)\n",
      "Requirement already satisfied: qiskit-algorithms>=0.2.0 in c:\\users\\navne\\anaconda3\\envs\\qml\\lib\\site-packages (from qiskit-machine-learning) (0.2.1)\n",
      "Requirement already satisfied: scipy>=1.4 in c:\\users\\navne\\anaconda3\\envs\\qml\\lib\\site-packages (from qiskit-machine-learning) (1.11.4)\n",
      "Requirement already satisfied: numpy>=1.17 in c:\\users\\navne\\anaconda3\\envs\\qml\\lib\\site-packages (from qiskit-machine-learning) (1.24.4)\n",
      "Requirement already satisfied: psutil>=5 in c:\\users\\navne\\anaconda3\\envs\\qml\\lib\\site-packages (from qiskit-machine-learning) (5.9.5)\n",
      "Requirement already satisfied: scikit-learn>=1.2.0 in c:\\users\\navne\\anaconda3\\envs\\qml\\lib\\site-packages (from qiskit-machine-learning) (1.3.2)\n",
      "Requirement already satisfied: fastdtw in c:\\users\\navne\\anaconda3\\envs\\qml\\lib\\site-packages (from qiskit-machine-learning) (0.3.4)\n",
      "Requirement already satisfied: setuptools>=40.1.0 in c:\\users\\navne\\anaconda3\\envs\\qml\\lib\\site-packages (from qiskit-machine-learning) (67.8.0)\n",
      "Requirement already satisfied: dill>=0.3.4 in c:\\users\\navne\\anaconda3\\envs\\qml\\lib\\site-packages (from qiskit-machine-learning) (0.3.7)\n",
      "Requirement already satisfied: qiskit-terra==0.45.1 in c:\\users\\navne\\anaconda3\\envs\\qml\\lib\\site-packages (from qiskit>=0.44->qiskit-machine-learning) (0.45.1)\n",
      "Requirement already satisfied: rustworkx>=0.13.0 in c:\\users\\navne\\anaconda3\\envs\\qml\\lib\\site-packages (from qiskit-terra==0.45.1->qiskit>=0.44->qiskit-machine-learning) (0.13.2)\n",
      "Requirement already satisfied: ply>=3.10 in c:\\users\\navne\\anaconda3\\envs\\qml\\lib\\site-packages (from qiskit-terra==0.45.1->qiskit>=0.44->qiskit-machine-learning) (3.11)\n",
      "Requirement already satisfied: sympy>=1.3 in c:\\users\\navne\\anaconda3\\envs\\qml\\lib\\site-packages (from qiskit-terra==0.45.1->qiskit>=0.44->qiskit-machine-learning) (1.12)\n",
      "Requirement already satisfied: python-dateutil>=2.8.0 in c:\\users\\navne\\anaconda3\\envs\\qml\\lib\\site-packages (from qiskit-terra==0.45.1->qiskit>=0.44->qiskit-machine-learning) (2.8.2)\n",
      "Requirement already satisfied: stevedore>=3.0.0 in c:\\users\\navne\\anaconda3\\envs\\qml\\lib\\site-packages (from qiskit-terra==0.45.1->qiskit>=0.44->qiskit-machine-learning) (5.1.0)\n",
      "Requirement already satisfied: typing-extensions in c:\\users\\navne\\anaconda3\\envs\\qml\\lib\\site-packages (from qiskit-terra==0.45.1->qiskit>=0.44->qiskit-machine-learning) (4.6.3)\n",
      "Requirement already satisfied: joblib>=1.1.1 in c:\\users\\navne\\anaconda3\\envs\\qml\\lib\\site-packages (from scikit-learn>=1.2.0->qiskit-machine-learning) (1.3.2)\n",
      "Requirement already satisfied: threadpoolctl>=2.0.0 in c:\\users\\navne\\anaconda3\\envs\\qml\\lib\\site-packages (from scikit-learn>=1.2.0->qiskit-machine-learning) (3.2.0)\n",
      "Requirement already satisfied: six>=1.5 in c:\\users\\navne\\anaconda3\\envs\\qml\\lib\\site-packages (from python-dateutil>=2.8.0->qiskit-terra==0.45.1->qiskit>=0.44->qiskit-machine-learning) (1.16.0)\n",
      "Requirement already satisfied: pbr!=2.1.0,>=2.0.0 in c:\\users\\navne\\anaconda3\\envs\\qml\\lib\\site-packages (from stevedore>=3.0.0->qiskit-terra==0.45.1->qiskit>=0.44->qiskit-machine-learning) (6.0.0)\n",
      "Requirement already satisfied: mpmath>=0.19 in c:\\users\\navne\\anaconda3\\envs\\qml\\lib\\site-packages (from sympy>=1.3->qiskit-terra==0.45.1->qiskit>=0.44->qiskit-machine-learning) (1.3.0)\n",
      "Note: you may need to restart the kernel to use updated packages.\n"
     ]
    }
   ],
   "source": [
    "pip install qiskit-machine-learning"
   ]
  },
  {
   "cell_type": "code",
   "execution_count": 3,
   "metadata": {},
   "outputs": [
    {
     "name": "stdout",
     "output_type": "stream",
     "text": [
      "Requirement already satisfied: qiskit-machine-learning[torch] in c:\\users\\navne\\anaconda3\\envs\\qml\\lib\\site-packages (0.7.1)\n",
      "Requirement already satisfied: qiskit>=0.44 in c:\\users\\navne\\anaconda3\\envs\\qml\\lib\\site-packages (from qiskit-machine-learning[torch]) (0.45.1)\n",
      "Requirement already satisfied: qiskit-algorithms>=0.2.0 in c:\\users\\navne\\anaconda3\\envs\\qml\\lib\\site-packages (from qiskit-machine-learning[torch]) (0.2.1)\n",
      "Requirement already satisfied: scipy>=1.4 in c:\\users\\navne\\anaconda3\\envs\\qml\\lib\\site-packages (from qiskit-machine-learning[torch]) (1.11.4)\n",
      "Requirement already satisfied: numpy>=1.17 in c:\\users\\navne\\anaconda3\\envs\\qml\\lib\\site-packages (from qiskit-machine-learning[torch]) (1.24.4)\n",
      "Requirement already satisfied: psutil>=5 in c:\\users\\navne\\anaconda3\\envs\\qml\\lib\\site-packages (from qiskit-machine-learning[torch]) (5.9.5)\n",
      "Requirement already satisfied: scikit-learn>=1.2.0 in c:\\users\\navne\\anaconda3\\envs\\qml\\lib\\site-packages (from qiskit-machine-learning[torch]) (1.3.2)\n",
      "Requirement already satisfied: fastdtw in c:\\users\\navne\\anaconda3\\envs\\qml\\lib\\site-packages (from qiskit-machine-learning[torch]) (0.3.4)\n",
      "Requirement already satisfied: setuptools>=40.1.0 in c:\\users\\navne\\anaconda3\\envs\\qml\\lib\\site-packages (from qiskit-machine-learning[torch]) (67.8.0)\n",
      "Requirement already satisfied: dill>=0.3.4 in c:\\users\\navne\\anaconda3\\envs\\qml\\lib\\site-packages (from qiskit-machine-learning[torch]) (0.3.7)\n",
      "Requirement already satisfied: torch in c:\\users\\navne\\anaconda3\\envs\\qml\\lib\\site-packages (from qiskit-machine-learning[torch]) (1.12.1)\n",
      "Requirement already satisfied: qiskit-terra==0.45.1 in c:\\users\\navne\\anaconda3\\envs\\qml\\lib\\site-packages (from qiskit>=0.44->qiskit-machine-learning[torch]) (0.45.1)\n",
      "Requirement already satisfied: rustworkx>=0.13.0 in c:\\users\\navne\\anaconda3\\envs\\qml\\lib\\site-packages (from qiskit-terra==0.45.1->qiskit>=0.44->qiskit-machine-learning[torch]) (0.13.2)\n",
      "Requirement already satisfied: ply>=3.10 in c:\\users\\navne\\anaconda3\\envs\\qml\\lib\\site-packages (from qiskit-terra==0.45.1->qiskit>=0.44->qiskit-machine-learning[torch]) (3.11)\n",
      "Requirement already satisfied: sympy>=1.3 in c:\\users\\navne\\anaconda3\\envs\\qml\\lib\\site-packages (from qiskit-terra==0.45.1->qiskit>=0.44->qiskit-machine-learning[torch]) (1.12)\n",
      "Requirement already satisfied: python-dateutil>=2.8.0 in c:\\users\\navne\\anaconda3\\envs\\qml\\lib\\site-packages (from qiskit-terra==0.45.1->qiskit>=0.44->qiskit-machine-learning[torch]) (2.8.2)\n",
      "Requirement already satisfied: stevedore>=3.0.0 in c:\\users\\navne\\anaconda3\\envs\\qml\\lib\\site-packages (from qiskit-terra==0.45.1->qiskit>=0.44->qiskit-machine-learning[torch]) (5.1.0)\n",
      "Requirement already satisfied: typing-extensions in c:\\users\\navne\\anaconda3\\envs\\qml\\lib\\site-packages (from qiskit-terra==0.45.1->qiskit>=0.44->qiskit-machine-learning[torch]) (4.6.3)\n",
      "Requirement already satisfied: joblib>=1.1.1 in c:\\users\\navne\\anaconda3\\envs\\qml\\lib\\site-packages (from scikit-learn>=1.2.0->qiskit-machine-learning[torch]) (1.3.2)\n",
      "Requirement already satisfied: threadpoolctl>=2.0.0 in c:\\users\\navne\\anaconda3\\envs\\qml\\lib\\site-packages (from scikit-learn>=1.2.0->qiskit-machine-learning[torch]) (3.2.0)\n",
      "Requirement already satisfied: six>=1.5 in c:\\users\\navne\\anaconda3\\envs\\qml\\lib\\site-packages (from python-dateutil>=2.8.0->qiskit-terra==0.45.1->qiskit>=0.44->qiskit-machine-learning[torch]) (1.16.0)\n",
      "Requirement already satisfied: pbr!=2.1.0,>=2.0.0 in c:\\users\\navne\\anaconda3\\envs\\qml\\lib\\site-packages (from stevedore>=3.0.0->qiskit-terra==0.45.1->qiskit>=0.44->qiskit-machine-learning[torch]) (6.0.0)\n",
      "Requirement already satisfied: mpmath>=0.19 in c:\\users\\navne\\anaconda3\\envs\\qml\\lib\\site-packages (from sympy>=1.3->qiskit-terra==0.45.1->qiskit>=0.44->qiskit-machine-learning[torch]) (1.3.0)\n",
      "Note: you may need to restart the kernel to use updated packages.\n"
     ]
    }
   ],
   "source": [
    "pip install qiskit-machine-learning[torch]"
   ]
  },
  {
   "cell_type": "code",
   "execution_count": 2,
   "metadata": {},
   "outputs": [
    {
     "name": "stdout",
     "output_type": "stream",
     "text": [
      "Requirement already satisfied: qiskit-machine-learning[sparse] in c:\\users\\navne\\anaconda3\\envs\\qml\\lib\\site-packages (0.7.1)\n",
      "Requirement already satisfied: qiskit>=0.44 in c:\\users\\navne\\anaconda3\\envs\\qml\\lib\\site-packages (from qiskit-machine-learning[sparse]) (0.45.1)\n",
      "Requirement already satisfied: qiskit-algorithms>=0.2.0 in c:\\users\\navne\\anaconda3\\envs\\qml\\lib\\site-packages (from qiskit-machine-learning[sparse]) (0.2.1)\n",
      "Requirement already satisfied: scipy>=1.4 in c:\\users\\navne\\anaconda3\\envs\\qml\\lib\\site-packages (from qiskit-machine-learning[sparse]) (1.11.4)\n",
      "Requirement already satisfied: numpy>=1.17 in c:\\users\\navne\\anaconda3\\envs\\qml\\lib\\site-packages (from qiskit-machine-learning[sparse]) (1.24.4)\n",
      "Requirement already satisfied: psutil>=5 in c:\\users\\navne\\anaconda3\\envs\\qml\\lib\\site-packages (from qiskit-machine-learning[sparse]) (5.9.5)\n",
      "Requirement already satisfied: scikit-learn>=1.2.0 in c:\\users\\navne\\anaconda3\\envs\\qml\\lib\\site-packages (from qiskit-machine-learning[sparse]) (1.3.2)\n",
      "Requirement already satisfied: fastdtw in c:\\users\\navne\\anaconda3\\envs\\qml\\lib\\site-packages (from qiskit-machine-learning[sparse]) (0.3.4)\n",
      "Requirement already satisfied: setuptools>=40.1.0 in c:\\users\\navne\\anaconda3\\envs\\qml\\lib\\site-packages (from qiskit-machine-learning[sparse]) (67.8.0)\n",
      "Requirement already satisfied: dill>=0.3.4 in c:\\users\\navne\\anaconda3\\envs\\qml\\lib\\site-packages (from qiskit-machine-learning[sparse]) (0.3.7)\n",
      "Collecting sparse (from qiskit-machine-learning[sparse])\n",
      "  Downloading sparse-0.14.0-py2.py3-none-any.whl (80 kB)\n",
      "     ---------------------------------------- 0.0/81.0 kB ? eta -:--:--\n",
      "     ----- ---------------------------------- 10.2/81.0 kB ? eta -:--:--\n",
      "     ---------------------------------------- 81.0/81.0 kB 1.1 MB/s eta 0:00:00\n",
      "Requirement already satisfied: qiskit-terra==0.45.1 in c:\\users\\navne\\anaconda3\\envs\\qml\\lib\\site-packages (from qiskit>=0.44->qiskit-machine-learning[sparse]) (0.45.1)\n",
      "Requirement already satisfied: rustworkx>=0.13.0 in c:\\users\\navne\\anaconda3\\envs\\qml\\lib\\site-packages (from qiskit-terra==0.45.1->qiskit>=0.44->qiskit-machine-learning[sparse]) (0.13.2)\n",
      "Requirement already satisfied: ply>=3.10 in c:\\users\\navne\\anaconda3\\envs\\qml\\lib\\site-packages (from qiskit-terra==0.45.1->qiskit>=0.44->qiskit-machine-learning[sparse]) (3.11)\n",
      "Requirement already satisfied: sympy>=1.3 in c:\\users\\navne\\anaconda3\\envs\\qml\\lib\\site-packages (from qiskit-terra==0.45.1->qiskit>=0.44->qiskit-machine-learning[sparse]) (1.12)\n",
      "Requirement already satisfied: python-dateutil>=2.8.0 in c:\\users\\navne\\anaconda3\\envs\\qml\\lib\\site-packages (from qiskit-terra==0.45.1->qiskit>=0.44->qiskit-machine-learning[sparse]) (2.8.2)\n",
      "Requirement already satisfied: stevedore>=3.0.0 in c:\\users\\navne\\anaconda3\\envs\\qml\\lib\\site-packages (from qiskit-terra==0.45.1->qiskit>=0.44->qiskit-machine-learning[sparse]) (5.1.0)\n",
      "Requirement already satisfied: typing-extensions in c:\\users\\navne\\anaconda3\\envs\\qml\\lib\\site-packages (from qiskit-terra==0.45.1->qiskit>=0.44->qiskit-machine-learning[sparse]) (4.6.3)\n",
      "Requirement already satisfied: joblib>=1.1.1 in c:\\users\\navne\\anaconda3\\envs\\qml\\lib\\site-packages (from scikit-learn>=1.2.0->qiskit-machine-learning[sparse]) (1.3.2)\n",
      "Requirement already satisfied: threadpoolctl>=2.0.0 in c:\\users\\navne\\anaconda3\\envs\\qml\\lib\\site-packages (from scikit-learn>=1.2.0->qiskit-machine-learning[sparse]) (3.2.0)\n",
      "Collecting numba>=0.49 (from sparse->qiskit-machine-learning[sparse])\n",
      "  Downloading numba-0.58.1-cp310-cp310-win_amd64.whl.metadata (2.8 kB)\n",
      "Collecting llvmlite<0.42,>=0.41.0dev0 (from numba>=0.49->sparse->qiskit-machine-learning[sparse])\n",
      "  Downloading llvmlite-0.41.1-cp310-cp310-win_amd64.whl.metadata (4.9 kB)\n",
      "Requirement already satisfied: six>=1.5 in c:\\users\\navne\\anaconda3\\envs\\qml\\lib\\site-packages (from python-dateutil>=2.8.0->qiskit-terra==0.45.1->qiskit>=0.44->qiskit-machine-learning[sparse]) (1.16.0)\n",
      "Requirement already satisfied: pbr!=2.1.0,>=2.0.0 in c:\\users\\navne\\anaconda3\\envs\\qml\\lib\\site-packages (from stevedore>=3.0.0->qiskit-terra==0.45.1->qiskit>=0.44->qiskit-machine-learning[sparse]) (6.0.0)\n",
      "Requirement already satisfied: mpmath>=0.19 in c:\\users\\navne\\anaconda3\\envs\\qml\\lib\\site-packages (from sympy>=1.3->qiskit-terra==0.45.1->qiskit>=0.44->qiskit-machine-learning[sparse]) (1.3.0)\n",
      "Downloading numba-0.58.1-cp310-cp310-win_amd64.whl (2.6 MB)\n",
      "   ---------------------------------------- 0.0/2.6 MB ? eta -:--:--\n",
      "   -- ------------------------------------- 0.2/2.6 MB 4.0 MB/s eta 0:00:01\n",
      "   ------ --------------------------------- 0.4/2.6 MB 5.0 MB/s eta 0:00:01\n",
      "   ---------- ----------------------------- 0.7/2.6 MB 5.3 MB/s eta 0:00:01\n",
      "   -------------- ------------------------- 1.0/2.6 MB 5.5 MB/s eta 0:00:01\n",
      "   ------------------- -------------------- 1.3/2.6 MB 5.8 MB/s eta 0:00:01\n",
      "   ------------------------- -------------- 1.6/2.6 MB 6.5 MB/s eta 0:00:01\n",
      "   ------------------------------- -------- 2.1/2.6 MB 7.0 MB/s eta 0:00:01\n",
      "   ---------------------------------------  2.5/2.6 MB 7.4 MB/s eta 0:00:01\n",
      "   ---------------------------------------- 2.6/2.6 MB 7.6 MB/s eta 0:00:00\n",
      "Downloading llvmlite-0.41.1-cp310-cp310-win_amd64.whl (28.1 MB)\n",
      "   ---------------------------------------- 0.0/28.1 MB ? eta -:--:--\n",
      "    --------------------------------------- 0.6/28.1 MB 12.5 MB/s eta 0:00:03\n",
      "   - -------------------------------------- 1.2/28.1 MB 12.9 MB/s eta 0:00:03\n",
      "   -- ------------------------------------- 1.8/28.1 MB 14.1 MB/s eta 0:00:02\n",
      "   --- ------------------------------------ 2.5/28.1 MB 14.8 MB/s eta 0:00:02\n",
      "   ---- ----------------------------------- 3.3/28.1 MB 15.3 MB/s eta 0:00:02\n",
      "   ------ --------------------------------- 4.2/28.1 MB 16.9 MB/s eta 0:00:02\n",
      "   ------- -------------------------------- 5.2/28.1 MB 17.5 MB/s eta 0:00:02\n",
      "   -------- ------------------------------- 6.2/28.1 MB 18.1 MB/s eta 0:00:02\n",
      "   ---------- ----------------------------- 7.4/28.1 MB 19.6 MB/s eta 0:00:02\n",
      "   ----------- ---------------------------- 8.4/28.1 MB 19.9 MB/s eta 0:00:01\n",
      "   ------------- -------------------------- 9.2/28.1 MB 20.3 MB/s eta 0:00:01\n",
      "   -------------- ------------------------- 9.9/28.1 MB 19.7 MB/s eta 0:00:01\n",
      "   --------------- ------------------------ 10.7/28.1 MB 19.9 MB/s eta 0:00:01\n",
      "   ---------------- ----------------------- 11.5/28.1 MB 21.1 MB/s eta 0:00:01\n",
      "   ----------------- ---------------------- 12.3/28.1 MB 21.1 MB/s eta 0:00:01\n",
      "   ------------------ --------------------- 13.3/28.1 MB 21.9 MB/s eta 0:00:01\n",
      "   ------------------- -------------------- 14.0/28.1 MB 21.8 MB/s eta 0:00:01\n",
      "   --------------------- ------------------ 14.9/28.1 MB 21.1 MB/s eta 0:00:01\n",
      "   ---------------------- ----------------- 15.5/28.1 MB 21.1 MB/s eta 0:00:01\n",
      "   ----------------------- ---------------- 16.4/28.1 MB 21.1 MB/s eta 0:00:01\n",
      "   ------------------------ --------------- 17.2/28.1 MB 19.8 MB/s eta 0:00:01\n",
      "   ------------------------- -------------- 18.0/28.1 MB 19.3 MB/s eta 0:00:01\n",
      "   -------------------------- ------------- 18.9/28.1 MB 19.8 MB/s eta 0:00:01\n",
      "   --------------------------- ------------ 19.6/28.1 MB 20.5 MB/s eta 0:00:01\n",
      "   ----------------------------- ---------- 20.6/28.1 MB 19.8 MB/s eta 0:00:01\n",
      "   ------------------------------ --------- 21.5/28.1 MB 20.5 MB/s eta 0:00:01\n",
      "   ------------------------------- -------- 22.4/28.1 MB 19.8 MB/s eta 0:00:01\n",
      "   -------------------------------- ------- 23.1/28.1 MB 20.5 MB/s eta 0:00:01\n",
      "   ---------------------------------- ----- 24.0/28.1 MB 20.5 MB/s eta 0:00:01\n",
      "   ----------------------------------- ---- 24.8/28.1 MB 19.2 MB/s eta 0:00:01\n",
      "   ------------------------------------ --- 25.7/28.1 MB 20.5 MB/s eta 0:00:01\n",
      "   ------------------------------------- -- 26.2/28.1 MB 20.5 MB/s eta 0:00:01\n",
      "   -------------------------------------- - 26.9/28.1 MB 19.8 MB/s eta 0:00:01\n",
      "   ---------------------------------------  27.7/28.1 MB 19.8 MB/s eta 0:00:01\n",
      "   ---------------------------------------  28.1/28.1 MB 19.3 MB/s eta 0:00:01\n",
      "   ---------------------------------------- 28.1/28.1 MB 18.2 MB/s eta 0:00:00\n",
      "Installing collected packages: llvmlite, numba, sparse\n",
      "Successfully installed llvmlite-0.41.1 numba-0.58.1 sparse-0.14.0\n",
      "Note: you may need to restart the kernel to use updated packages.\n"
     ]
    }
   ],
   "source": [
    "pip install qiskit-machine-learning[sparse]"
   ]
  },
  {
   "cell_type": "code",
   "execution_count": null,
   "metadata": {},
   "outputs": [],
   "source": []
  }
 ],
 "metadata": {
  "kernelspec": {
   "display_name": "qml",
   "language": "python",
   "name": "python3"
  },
  "language_info": {
   "codemirror_mode": {
    "name": "ipython",
    "version": 3
   },
   "file_extension": ".py",
   "mimetype": "text/x-python",
   "name": "python",
   "nbconvert_exporter": "python",
   "pygments_lexer": "ipython3",
   "version": "3.10.13"
  }
 },
 "nbformat": 4,
 "nbformat_minor": 2
}
