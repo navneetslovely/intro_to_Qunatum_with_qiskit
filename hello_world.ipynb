{
 "cells": [
  {
   "cell_type": "code",
   "execution_count": 1,
   "metadata": {},
   "outputs": [
    {
     "name": "stdout",
     "output_type": "stream",
     "text": [
      "Requirement already satisfied: qiskit-machine-learning in c:\\users\\navne\\anaconda3\\envs\\qml\\lib\\site-packages (0.7.1)\n",
      "Requirement already satisfied: qiskit>=0.44 in c:\\users\\navne\\anaconda3\\envs\\qml\\lib\\site-packages (from qiskit-machine-learning) (0.45.1)\n",
      "Requirement already satisfied: qiskit-algorithms>=0.2.0 in c:\\users\\navne\\anaconda3\\envs\\qml\\lib\\site-packages (from qiskit-machine-learning) (0.2.1)\n",
      "Requirement already satisfied: scipy>=1.4 in c:\\users\\navne\\anaconda3\\envs\\qml\\lib\\site-packages (from qiskit-machine-learning) (1.11.4)\n",
      "Requirement already satisfied: numpy>=1.17 in c:\\users\\navne\\anaconda3\\envs\\qml\\lib\\site-packages (from qiskit-machine-learning) (1.24.4)\n",
      "Requirement already satisfied: psutil>=5 in c:\\users\\navne\\anaconda3\\envs\\qml\\lib\\site-packages (from qiskit-machine-learning) (5.9.5)\n",
      "Requirement already satisfied: scikit-learn>=1.2.0 in c:\\users\\navne\\anaconda3\\envs\\qml\\lib\\site-packages (from qiskit-machine-learning) (1.3.2)\n",
      "Requirement already satisfied: fastdtw in c:\\users\\navne\\anaconda3\\envs\\qml\\lib\\site-packages (from qiskit-machine-learning) (0.3.4)\n",
      "Requirement already satisfied: setuptools>=40.1.0 in c:\\users\\navne\\anaconda3\\envs\\qml\\lib\\site-packages (from qiskit-machine-learning) (67.8.0)\n",
      "Requirement already satisfied: dill>=0.3.4 in c:\\users\\navne\\anaconda3\\envs\\qml\\lib\\site-packages (from qiskit-machine-learning) (0.3.7)\n",
      "Requirement already satisfied: qiskit-terra==0.45.1 in c:\\users\\navne\\anaconda3\\envs\\qml\\lib\\site-packages (from qiskit>=0.44->qiskit-machine-learning) (0.45.1)\n",
      "Requirement already satisfied: rustworkx>=0.13.0 in c:\\users\\navne\\anaconda3\\envs\\qml\\lib\\site-packages (from qiskit-terra==0.45.1->qiskit>=0.44->qiskit-machine-learning) (0.13.2)\n",
      "Requirement already satisfied: ply>=3.10 in c:\\users\\navne\\anaconda3\\envs\\qml\\lib\\site-packages (from qiskit-terra==0.45.1->qiskit>=0.44->qiskit-machine-learning) (3.11)\n",
      "Requirement already satisfied: sympy>=1.3 in c:\\users\\navne\\anaconda3\\envs\\qml\\lib\\site-packages (from qiskit-terra==0.45.1->qiskit>=0.44->qiskit-machine-learning) (1.12)\n",
      "Requirement already satisfied: python-dateutil>=2.8.0 in c:\\users\\navne\\anaconda3\\envs\\qml\\lib\\site-packages (from qiskit-terra==0.45.1->qiskit>=0.44->qiskit-machine-learning) (2.8.2)\n",
      "Requirement already satisfied: stevedore>=3.0.0 in c:\\users\\navne\\anaconda3\\envs\\qml\\lib\\site-packages (from qiskit-terra==0.45.1->qiskit>=0.44->qiskit-machine-learning) (5.1.0)\n",
      "Requirement already satisfied: typing-extensions in c:\\users\\navne\\anaconda3\\envs\\qml\\lib\\site-packages (from qiskit-terra==0.45.1->qiskit>=0.44->qiskit-machine-learning) (4.6.3)\n",
      "Requirement already satisfied: joblib>=1.1.1 in c:\\users\\navne\\anaconda3\\envs\\qml\\lib\\site-packages (from scikit-learn>=1.2.0->qiskit-machine-learning) (1.3.2)\n",
      "Requirement already satisfied: threadpoolctl>=2.0.0 in c:\\users\\navne\\anaconda3\\envs\\qml\\lib\\site-packages (from scikit-learn>=1.2.0->qiskit-machine-learning) (3.2.0)\n",
      "Requirement already satisfied: six>=1.5 in c:\\users\\navne\\anaconda3\\envs\\qml\\lib\\site-packages (from python-dateutil>=2.8.0->qiskit-terra==0.45.1->qiskit>=0.44->qiskit-machine-learning) (1.16.0)\n",
      "Requirement already satisfied: pbr!=2.1.0,>=2.0.0 in c:\\users\\navne\\anaconda3\\envs\\qml\\lib\\site-packages (from stevedore>=3.0.0->qiskit-terra==0.45.1->qiskit>=0.44->qiskit-machine-learning) (6.0.0)\n",
      "Requirement already satisfied: mpmath>=0.19 in c:\\users\\navne\\anaconda3\\envs\\qml\\lib\\site-packages (from sympy>=1.3->qiskit-terra==0.45.1->qiskit>=0.44->qiskit-machine-learning) (1.3.0)\n",
      "Note: you may need to restart the kernel to use updated packages.\n"
     ]
    }
   ],
   "source": [
    "pip install qiskit-machine-learning"
   ]
  },
  {
   "cell_type": "code",
   "execution_count": 1,
   "metadata": {},
   "outputs": [
    {
     "name": "stdout",
     "output_type": "stream",
     "text": [
      "Requirement already satisfied: qiskit-machine-learning[torch] in c:\\users\\navne\\anaconda3\\envs\\qml\\lib\\site-packages (0.7.1)\n",
      "Requirement already satisfied: qiskit>=0.44 in c:\\users\\navne\\anaconda3\\envs\\qml\\lib\\site-packages (from qiskit-machine-learning[torch]) (0.45.1)\n",
      "Requirement already satisfied: qiskit-algorithms>=0.2.0 in c:\\users\\navne\\anaconda3\\envs\\qml\\lib\\site-packages (from qiskit-machine-learning[torch]) (0.2.1)\n",
      "Requirement already satisfied: scipy>=1.4 in c:\\users\\navne\\anaconda3\\envs\\qml\\lib\\site-packages (from qiskit-machine-learning[torch]) (1.11.4)\n",
      "Requirement already satisfied: numpy>=1.17 in c:\\users\\navne\\anaconda3\\envs\\qml\\lib\\site-packages (from qiskit-machine-learning[torch]) (1.24.4)\n",
      "Requirement already satisfied: psutil>=5 in c:\\users\\navne\\anaconda3\\envs\\qml\\lib\\site-packages (from qiskit-machine-learning[torch]) (5.9.5)\n",
      "Requirement already satisfied: scikit-learn>=1.2.0 in c:\\users\\navne\\anaconda3\\envs\\qml\\lib\\site-packages (from qiskit-machine-learning[torch]) (1.3.2)\n",
      "Requirement already satisfied: fastdtw in c:\\users\\navne\\anaconda3\\envs\\qml\\lib\\site-packages (from qiskit-machine-learning[torch]) (0.3.4)\n",
      "Requirement already satisfied: setuptools>=40.1.0 in c:\\users\\navne\\anaconda3\\envs\\qml\\lib\\site-packages (from qiskit-machine-learning[torch]) (67.8.0)\n",
      "Requirement already satisfied: dill>=0.3.4 in c:\\users\\navne\\anaconda3\\envs\\qml\\lib\\site-packages (from qiskit-machine-learning[torch]) (0.3.7)\n",
      "Requirement already satisfied: torch in c:\\users\\navne\\anaconda3\\envs\\qml\\lib\\site-packages (from qiskit-machine-learning[torch]) (1.12.1)\n",
      "Requirement already satisfied: qiskit-terra==0.45.1 in c:\\users\\navne\\anaconda3\\envs\\qml\\lib\\site-packages (from qiskit>=0.44->qiskit-machine-learning[torch]) (0.45.1)\n",
      "Requirement already satisfied: rustworkx>=0.13.0 in c:\\users\\navne\\anaconda3\\envs\\qml\\lib\\site-packages (from qiskit-terra==0.45.1->qiskit>=0.44->qiskit-machine-learning[torch]) (0.13.2)\n",
      "Requirement already satisfied: ply>=3.10 in c:\\users\\navne\\anaconda3\\envs\\qml\\lib\\site-packages (from qiskit-terra==0.45.1->qiskit>=0.44->qiskit-machine-learning[torch]) (3.11)\n",
      "Requirement already satisfied: sympy>=1.3 in c:\\users\\navne\\anaconda3\\envs\\qml\\lib\\site-packages (from qiskit-terra==0.45.1->qiskit>=0.44->qiskit-machine-learning[torch]) (1.12)\n",
      "Requirement already satisfied: python-dateutil>=2.8.0 in c:\\users\\navne\\anaconda3\\envs\\qml\\lib\\site-packages (from qiskit-terra==0.45.1->qiskit>=0.44->qiskit-machine-learning[torch]) (2.8.2)\n",
      "Requirement already satisfied: stevedore>=3.0.0 in c:\\users\\navne\\anaconda3\\envs\\qml\\lib\\site-packages (from qiskit-terra==0.45.1->qiskit>=0.44->qiskit-machine-learning[torch]) (5.1.0)\n",
      "Requirement already satisfied: typing-extensions in c:\\users\\navne\\anaconda3\\envs\\qml\\lib\\site-packages (from qiskit-terra==0.45.1->qiskit>=0.44->qiskit-machine-learning[torch]) (4.6.3)\n",
      "Requirement already satisfied: joblib>=1.1.1 in c:\\users\\navne\\anaconda3\\envs\\qml\\lib\\site-packages (from scikit-learn>=1.2.0->qiskit-machine-learning[torch]) (1.3.2)\n",
      "Requirement already satisfied: threadpoolctl>=2.0.0 in c:\\users\\navne\\anaconda3\\envs\\qml\\lib\\site-packages (from scikit-learn>=1.2.0->qiskit-machine-learning[torch]) (3.2.0)\n",
      "Requirement already satisfied: six>=1.5 in c:\\users\\navne\\anaconda3\\envs\\qml\\lib\\site-packages (from python-dateutil>=2.8.0->qiskit-terra==0.45.1->qiskit>=0.44->qiskit-machine-learning[torch]) (1.16.0)\n",
      "Requirement already satisfied: pbr!=2.1.0,>=2.0.0 in c:\\users\\navne\\anaconda3\\envs\\qml\\lib\\site-packages (from stevedore>=3.0.0->qiskit-terra==0.45.1->qiskit>=0.44->qiskit-machine-learning[torch]) (6.0.0)\n",
      "Requirement already satisfied: mpmath>=0.19 in c:\\users\\navne\\anaconda3\\envs\\qml\\lib\\site-packages (from sympy>=1.3->qiskit-terra==0.45.1->qiskit>=0.44->qiskit-machine-learning[torch]) (1.3.0)\n",
      "Note: you may need to restart the kernel to use updated packages.\n"
     ]
    }
   ],
   "source": [
    "pip install qiskit-machine-learning[torch]"
   ]
  },
  {
   "cell_type": "code",
   "execution_count": 2,
   "metadata": {},
   "outputs": [
    {
     "name": "stdout",
     "output_type": "stream",
     "text": [
      "Requirement already satisfied: qiskit-machine-learning[sparse] in c:\\users\\navne\\anaconda3\\envs\\qml\\lib\\site-packages (0.7.1)\n",
      "Requirement already satisfied: qiskit>=0.44 in c:\\users\\navne\\anaconda3\\envs\\qml\\lib\\site-packages (from qiskit-machine-learning[sparse]) (0.45.1)\n",
      "Requirement already satisfied: qiskit-algorithms>=0.2.0 in c:\\users\\navne\\anaconda3\\envs\\qml\\lib\\site-packages (from qiskit-machine-learning[sparse]) (0.2.1)\n",
      "Requirement already satisfied: scipy>=1.4 in c:\\users\\navne\\anaconda3\\envs\\qml\\lib\\site-packages (from qiskit-machine-learning[sparse]) (1.11.4)\n",
      "Requirement already satisfied: numpy>=1.17 in c:\\users\\navne\\anaconda3\\envs\\qml\\lib\\site-packages (from qiskit-machine-learning[sparse]) (1.24.4)\n",
      "Requirement already satisfied: psutil>=5 in c:\\users\\navne\\anaconda3\\envs\\qml\\lib\\site-packages (from qiskit-machine-learning[sparse]) (5.9.5)\n",
      "Requirement already satisfied: scikit-learn>=1.2.0 in c:\\users\\navne\\anaconda3\\envs\\qml\\lib\\site-packages (from qiskit-machine-learning[sparse]) (1.3.2)\n",
      "Requirement already satisfied: fastdtw in c:\\users\\navne\\anaconda3\\envs\\qml\\lib\\site-packages (from qiskit-machine-learning[sparse]) (0.3.4)\n",
      "Requirement already satisfied: setuptools>=40.1.0 in c:\\users\\navne\\anaconda3\\envs\\qml\\lib\\site-packages (from qiskit-machine-learning[sparse]) (67.8.0)\n",
      "Requirement already satisfied: dill>=0.3.4 in c:\\users\\navne\\anaconda3\\envs\\qml\\lib\\site-packages (from qiskit-machine-learning[sparse]) (0.3.7)\n",
      "Requirement already satisfied: sparse in c:\\users\\navne\\anaconda3\\envs\\qml\\lib\\site-packages (from qiskit-machine-learning[sparse]) (0.14.0)\n",
      "Requirement already satisfied: qiskit-terra==0.45.1 in c:\\users\\navne\\anaconda3\\envs\\qml\\lib\\site-packages (from qiskit>=0.44->qiskit-machine-learning[sparse]) (0.45.1)\n",
      "Requirement already satisfied: rustworkx>=0.13.0 in c:\\users\\navne\\anaconda3\\envs\\qml\\lib\\site-packages (from qiskit-terra==0.45.1->qiskit>=0.44->qiskit-machine-learning[sparse]) (0.13.2)\n",
      "Requirement already satisfied: ply>=3.10 in c:\\users\\navne\\anaconda3\\envs\\qml\\lib\\site-packages (from qiskit-terra==0.45.1->qiskit>=0.44->qiskit-machine-learning[sparse]) (3.11)\n",
      "Requirement already satisfied: sympy>=1.3 in c:\\users\\navne\\anaconda3\\envs\\qml\\lib\\site-packages (from qiskit-terra==0.45.1->qiskit>=0.44->qiskit-machine-learning[sparse]) (1.12)\n",
      "Requirement already satisfied: python-dateutil>=2.8.0 in c:\\users\\navne\\anaconda3\\envs\\qml\\lib\\site-packages (from qiskit-terra==0.45.1->qiskit>=0.44->qiskit-machine-learning[sparse]) (2.8.2)\n",
      "Requirement already satisfied: stevedore>=3.0.0 in c:\\users\\navne\\anaconda3\\envs\\qml\\lib\\site-packages (from qiskit-terra==0.45.1->qiskit>=0.44->qiskit-machine-learning[sparse]) (5.1.0)\n",
      "Requirement already satisfied: typing-extensions in c:\\users\\navne\\anaconda3\\envs\\qml\\lib\\site-packages (from qiskit-terra==0.45.1->qiskit>=0.44->qiskit-machine-learning[sparse]) (4.6.3)\n",
      "Requirement already satisfied: joblib>=1.1.1 in c:\\users\\navne\\anaconda3\\envs\\qml\\lib\\site-packages (from scikit-learn>=1.2.0->qiskit-machine-learning[sparse]) (1.3.2)\n",
      "Requirement already satisfied: threadpoolctl>=2.0.0 in c:\\users\\navne\\anaconda3\\envs\\qml\\lib\\site-packages (from scikit-learn>=1.2.0->qiskit-machine-learning[sparse]) (3.2.0)\n",
      "Requirement already satisfied: numba>=0.49 in c:\\users\\navne\\anaconda3\\envs\\qml\\lib\\site-packages (from sparse->qiskit-machine-learning[sparse]) (0.58.1)\n",
      "Requirement already satisfied: llvmlite<0.42,>=0.41.0dev0 in c:\\users\\navne\\anaconda3\\envs\\qml\\lib\\site-packages (from numba>=0.49->sparse->qiskit-machine-learning[sparse]) (0.41.1)\n",
      "Requirement already satisfied: six>=1.5 in c:\\users\\navne\\anaconda3\\envs\\qml\\lib\\site-packages (from python-dateutil>=2.8.0->qiskit-terra==0.45.1->qiskit>=0.44->qiskit-machine-learning[sparse]) (1.16.0)\n",
      "Requirement already satisfied: pbr!=2.1.0,>=2.0.0 in c:\\users\\navne\\anaconda3\\envs\\qml\\lib\\site-packages (from stevedore>=3.0.0->qiskit-terra==0.45.1->qiskit>=0.44->qiskit-machine-learning[sparse]) (6.0.0)\n",
      "Requirement already satisfied: mpmath>=0.19 in c:\\users\\navne\\anaconda3\\envs\\qml\\lib\\site-packages (from sympy>=1.3->qiskit-terra==0.45.1->qiskit>=0.44->qiskit-machine-learning[sparse]) (1.3.0)\n",
      "Note: you may need to restart the kernel to use updated packages.\n"
     ]
    }
   ],
   "source": [
    "pip install qiskit-machine-learning[sparse]"
   ]
  },
  {
   "cell_type": "code",
   "execution_count": null,
   "metadata": {},
   "outputs": [],
   "source": []
  }
 ],
 "metadata": {
  "kernelspec": {
   "display_name": "qml",
   "language": "python",
   "name": "python3"
  },
  "language_info": {
   "codemirror_mode": {
    "name": "ipython",
    "version": 3
   },
   "file_extension": ".py",
   "mimetype": "text/x-python",
   "name": "python",
   "nbconvert_exporter": "python",
   "pygments_lexer": "ipython3",
   "version": "3.10.13"
  }
 },
 "nbformat": 4,
 "nbformat_minor": 2
}
